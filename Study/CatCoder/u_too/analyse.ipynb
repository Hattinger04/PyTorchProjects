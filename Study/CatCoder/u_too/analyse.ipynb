{
 "cells": [
  {
   "cell_type": "markdown",
   "metadata": {},
   "source": [
    "## Import"
   ]
  },
  {
   "cell_type": "code",
   "execution_count": 231,
   "metadata": {},
   "outputs": [],
   "source": [
    "from zipfile import ZipFile\n",
    "import pandas as pd\n",
    "import numpy as np\n",
    "\n",
    "from sklearn.preprocessing import StandardScaler, MinMaxScaler\n",
    "from sklearn.decomposition import PCA  # to apply PCA\n",
    "from sklearn.compose import make_column_transformer\n",
    "\n",
    "import matplotlib.pyplot as plt \n",
    "\n",
    "from tqdm import tqdm\n",
    "\n",
    "import torch\n",
    "import torch.nn as nn\n",
    "import torch.nn.functional as F"
   ]
  },
  {
   "cell_type": "code",
   "execution_count": 12,
   "metadata": {},
   "outputs": [
    {
     "data": {
      "text/html": [
       "<div>\n",
       "<style scoped>\n",
       "    .dataframe tbody tr th:only-of-type {\n",
       "        vertical-align: middle;\n",
       "    }\n",
       "\n",
       "    .dataframe tbody tr th {\n",
       "        vertical-align: top;\n",
       "    }\n",
       "\n",
       "    .dataframe thead th {\n",
       "        text-align: right;\n",
       "    }\n",
       "</style>\n",
       "<table border=\"1\" class=\"dataframe\">\n",
       "  <thead>\n",
       "    <tr style=\"text-align: right;\">\n",
       "      <th></th>\n",
       "      <th>-0.18742052102399506</th>\n",
       "      <th>0.13123041807890418</th>\n",
       "      <th>0.14389320278704634</th>\n",
       "      <th>-0.18547592277960087</th>\n",
       "      <th>-0.12672893308287914</th>\n",
       "    </tr>\n",
       "  </thead>\n",
       "  <tbody>\n",
       "    <tr>\n",
       "      <th>0</th>\n",
       "      <td>1.619760</td>\n",
       "      <td>1.165669</td>\n",
       "      <td>1.123722</td>\n",
       "      <td>1.618634</td>\n",
       "      <td>-2.007404</td>\n",
       "    </tr>\n",
       "    <tr>\n",
       "      <th>1</th>\n",
       "      <td>0.508120</td>\n",
       "      <td>0.605804</td>\n",
       "      <td>0.601210</td>\n",
       "      <td>0.513154</td>\n",
       "      <td>0.734771</td>\n",
       "    </tr>\n",
       "    <tr>\n",
       "      <th>2</th>\n",
       "      <td>-0.801372</td>\n",
       "      <td>-0.510272</td>\n",
       "      <td>-0.463632</td>\n",
       "      <td>-0.803233</td>\n",
       "      <td>0.091330</td>\n",
       "    </tr>\n",
       "    <tr>\n",
       "      <th>3</th>\n",
       "      <td>-0.558647</td>\n",
       "      <td>-0.211937</td>\n",
       "      <td>-0.181563</td>\n",
       "      <td>-0.559327</td>\n",
       "      <td>-1.008862</td>\n",
       "    </tr>\n",
       "    <tr>\n",
       "      <th>4</th>\n",
       "      <td>1.011927</td>\n",
       "      <td>0.890585</td>\n",
       "      <td>0.870272</td>\n",
       "      <td>1.012558</td>\n",
       "      <td>-2.227518</td>\n",
       "    </tr>\n",
       "    <tr>\n",
       "      <th>...</th>\n",
       "      <td>...</td>\n",
       "      <td>...</td>\n",
       "      <td>...</td>\n",
       "      <td>...</td>\n",
       "      <td>...</td>\n",
       "    </tr>\n",
       "    <tr>\n",
       "      <th>1994</th>\n",
       "      <td>0.979292</td>\n",
       "      <td>0.865800</td>\n",
       "      <td>0.841783</td>\n",
       "      <td>0.983651</td>\n",
       "      <td>1.194655</td>\n",
       "    </tr>\n",
       "    <tr>\n",
       "      <th>1995</th>\n",
       "      <td>1.434147</td>\n",
       "      <td>1.076005</td>\n",
       "      <td>1.048022</td>\n",
       "      <td>1.431939</td>\n",
       "      <td>-1.067240</td>\n",
       "    </tr>\n",
       "    <tr>\n",
       "      <th>1996</th>\n",
       "      <td>-0.077276</td>\n",
       "      <td>0.217731</td>\n",
       "      <td>0.223425</td>\n",
       "      <td>-0.082174</td>\n",
       "      <td>0.704316</td>\n",
       "    </tr>\n",
       "    <tr>\n",
       "      <th>1997</th>\n",
       "      <td>1.181223</td>\n",
       "      <td>0.967514</td>\n",
       "      <td>0.932469</td>\n",
       "      <td>1.180012</td>\n",
       "      <td>1.456029</td>\n",
       "    </tr>\n",
       "    <tr>\n",
       "      <th>1998</th>\n",
       "      <td>0.967054</td>\n",
       "      <td>0.855408</td>\n",
       "      <td>0.837171</td>\n",
       "      <td>0.967439</td>\n",
       "      <td>0.864500</td>\n",
       "    </tr>\n",
       "  </tbody>\n",
       "</table>\n",
       "<p>1999 rows × 5 columns</p>\n",
       "</div>"
      ],
      "text/plain": [
       "      -0.18742052102399506  0.13123041807890418  0.14389320278704634  \\\n",
       "0                 1.619760             1.165669             1.123722   \n",
       "1                 0.508120             0.605804             0.601210   \n",
       "2                -0.801372            -0.510272            -0.463632   \n",
       "3                -0.558647            -0.211937            -0.181563   \n",
       "4                 1.011927             0.890585             0.870272   \n",
       "...                    ...                  ...                  ...   \n",
       "1994              0.979292             0.865800             0.841783   \n",
       "1995              1.434147             1.076005             1.048022   \n",
       "1996             -0.077276             0.217731             0.223425   \n",
       "1997              1.181223             0.967514             0.932469   \n",
       "1998              0.967054             0.855408             0.837171   \n",
       "\n",
       "      -0.18547592277960087  -0.12672893308287914  \n",
       "0                 1.618634             -2.007404  \n",
       "1                 0.513154              0.734771  \n",
       "2                -0.803233              0.091330  \n",
       "3                -0.559327             -1.008862  \n",
       "4                 1.012558             -2.227518  \n",
       "...                    ...                   ...  \n",
       "1994              0.983651              1.194655  \n",
       "1995              1.431939             -1.067240  \n",
       "1996             -0.082174              0.704316  \n",
       "1997              1.180012              1.456029  \n",
       "1998              0.967439              0.864500  \n",
       "\n",
       "[1999 rows x 5 columns]"
      ]
     },
     "execution_count": 12,
     "metadata": {},
     "output_type": "execute_result"
    }
   ],
   "source": [
    "df = pd.read_csv(\"data.csv\")\n",
    "df"
   ]
  },
  {
   "cell_type": "markdown",
   "metadata": {},
   "source": [
    "## Level 1"
   ]
  },
  {
   "cell_type": "code",
   "execution_count": 6,
   "metadata": {},
   "outputs": [
    {
     "data": {
      "text/html": [
       "<div>\n",
       "<style scoped>\n",
       "    .dataframe tbody tr th:only-of-type {\n",
       "        vertical-align: middle;\n",
       "    }\n",
       "\n",
       "    .dataframe tbody tr th {\n",
       "        vertical-align: top;\n",
       "    }\n",
       "\n",
       "    .dataframe thead th {\n",
       "        text-align: right;\n",
       "    }\n",
       "</style>\n",
       "<table border=\"1\" class=\"dataframe\">\n",
       "  <thead>\n",
       "    <tr style=\"text-align: right;\">\n",
       "      <th></th>\n",
       "      <th>0</th>\n",
       "      <th>1</th>\n",
       "      <th>2</th>\n",
       "      <th>3</th>\n",
       "      <th>4</th>\n",
       "    </tr>\n",
       "  </thead>\n",
       "  <tbody>\n",
       "    <tr>\n",
       "      <th>0</th>\n",
       "      <td>1.619275</td>\n",
       "      <td>1.165448</td>\n",
       "      <td>1.123519</td>\n",
       "      <td>1.618150</td>\n",
       "      <td>-2.006974</td>\n",
       "    </tr>\n",
       "    <tr>\n",
       "      <th>1</th>\n",
       "      <td>0.507903</td>\n",
       "      <td>0.605720</td>\n",
       "      <td>0.601134</td>\n",
       "      <td>0.512937</td>\n",
       "      <td>0.734526</td>\n",
       "    </tr>\n",
       "    <tr>\n",
       "      <th>2</th>\n",
       "      <td>-0.801273</td>\n",
       "      <td>-0.510081</td>\n",
       "      <td>-0.463446</td>\n",
       "      <td>-0.803132</td>\n",
       "      <td>0.091244</td>\n",
       "    </tr>\n",
       "    <tr>\n",
       "      <th>3</th>\n",
       "      <td>-0.558606</td>\n",
       "      <td>-0.211819</td>\n",
       "      <td>-0.181447</td>\n",
       "      <td>-0.559285</td>\n",
       "      <td>-1.008677</td>\n",
       "    </tr>\n",
       "    <tr>\n",
       "      <th>4</th>\n",
       "      <td>1.011589</td>\n",
       "      <td>0.890431</td>\n",
       "      <td>0.870131</td>\n",
       "      <td>1.012221</td>\n",
       "      <td>-2.227034</td>\n",
       "    </tr>\n",
       "    <tr>\n",
       "      <th>...</th>\n",
       "      <td>...</td>\n",
       "      <td>...</td>\n",
       "      <td>...</td>\n",
       "      <td>...</td>\n",
       "      <td>...</td>\n",
       "    </tr>\n",
       "    <tr>\n",
       "      <th>1994</th>\n",
       "      <td>0.978962</td>\n",
       "      <td>0.865653</td>\n",
       "      <td>0.841648</td>\n",
       "      <td>0.983321</td>\n",
       "      <td>1.194298</td>\n",
       "    </tr>\n",
       "    <tr>\n",
       "      <th>1995</th>\n",
       "      <td>1.433707</td>\n",
       "      <td>1.075806</td>\n",
       "      <td>1.047837</td>\n",
       "      <td>1.431500</td>\n",
       "      <td>-1.067041</td>\n",
       "    </tr>\n",
       "    <tr>\n",
       "      <th>1996</th>\n",
       "      <td>-0.077351</td>\n",
       "      <td>0.217743</td>\n",
       "      <td>0.223442</td>\n",
       "      <td>-0.082247</td>\n",
       "      <td>0.704079</td>\n",
       "    </tr>\n",
       "    <tr>\n",
       "      <th>1997</th>\n",
       "      <td>1.180844</td>\n",
       "      <td>0.967342</td>\n",
       "      <td>0.932313</td>\n",
       "      <td>1.179634</td>\n",
       "      <td>1.455608</td>\n",
       "    </tr>\n",
       "    <tr>\n",
       "      <th>1998</th>\n",
       "      <td>0.966727</td>\n",
       "      <td>0.855264</td>\n",
       "      <td>0.837038</td>\n",
       "      <td>0.967113</td>\n",
       "      <td>0.864224</td>\n",
       "    </tr>\n",
       "  </tbody>\n",
       "</table>\n",
       "<p>1999 rows × 5 columns</p>\n",
       "</div>"
      ],
      "text/plain": [
       "             0         1         2         3         4\n",
       "0     1.619275  1.165448  1.123519  1.618150 -2.006974\n",
       "1     0.507903  0.605720  0.601134  0.512937  0.734526\n",
       "2    -0.801273 -0.510081 -0.463446 -0.803132  0.091244\n",
       "3    -0.558606 -0.211819 -0.181447 -0.559285 -1.008677\n",
       "4     1.011589  0.890431  0.870131  1.012221 -2.227034\n",
       "...        ...       ...       ...       ...       ...\n",
       "1994  0.978962  0.865653  0.841648  0.983321  1.194298\n",
       "1995  1.433707  1.075806  1.047837  1.431500 -1.067041\n",
       "1996 -0.077351  0.217743  0.223442 -0.082247  0.704079\n",
       "1997  1.180844  0.967342  0.932313  1.179634  1.455608\n",
       "1998  0.966727  0.855264  0.837038  0.967113  0.864224\n",
       "\n",
       "[1999 rows x 5 columns]"
      ]
     },
     "execution_count": 6,
     "metadata": {},
     "output_type": "execute_result"
    }
   ],
   "source": [
    "scalar = StandardScaler() \n",
    "scaled_data = pd.DataFrame(scalar.fit_transform(df)) #scaling the data\n",
    "scaled_data"
   ]
  },
  {
   "cell_type": "code",
   "execution_count": 13,
   "metadata": {},
   "outputs": [
    {
     "name": "stderr",
     "output_type": "stream",
     "text": [
      "c:\\Users\\s8gre\\anaconda3\\envs\\ai\\lib\\site-packages\\sklearn\\base.py:465: UserWarning: X does not have valid feature names, but PCA was fitted with feature names\n",
      "  warnings.warn(\n"
     ]
    },
    {
     "data": {
      "text/html": [
       "<div>\n",
       "<style scoped>\n",
       "    .dataframe tbody tr th:only-of-type {\n",
       "        vertical-align: middle;\n",
       "    }\n",
       "\n",
       "    .dataframe tbody tr th {\n",
       "        vertical-align: top;\n",
       "    }\n",
       "\n",
       "    .dataframe thead th {\n",
       "        text-align: right;\n",
       "    }\n",
       "</style>\n",
       "<table border=\"1\" class=\"dataframe\">\n",
       "  <thead>\n",
       "    <tr style=\"text-align: right;\">\n",
       "      <th></th>\n",
       "      <th>PC1</th>\n",
       "      <th>PC2</th>\n",
       "    </tr>\n",
       "  </thead>\n",
       "  <tbody>\n",
       "    <tr>\n",
       "      <th>0</th>\n",
       "      <td>-2.676633</td>\n",
       "      <td>-2.133107</td>\n",
       "    </tr>\n",
       "    <tr>\n",
       "      <th>1</th>\n",
       "      <td>-1.143645</td>\n",
       "      <td>0.689403</td>\n",
       "    </tr>\n",
       "    <tr>\n",
       "      <th>2</th>\n",
       "      <td>1.284087</td>\n",
       "      <td>0.153538</td>\n",
       "    </tr>\n",
       "    <tr>\n",
       "      <th>3</th>\n",
       "      <td>0.797242</td>\n",
       "      <td>-0.966012</td>\n",
       "    </tr>\n",
       "    <tr>\n",
       "      <th>4</th>\n",
       "      <td>-1.797160</td>\n",
       "      <td>-2.307109</td>\n",
       "    </tr>\n",
       "  </tbody>\n",
       "</table>\n",
       "</div>"
      ],
      "text/plain": [
       "        PC1       PC2\n",
       "0 -2.676633 -2.133107\n",
       "1 -1.143645  0.689403\n",
       "2  1.284087  0.153538\n",
       "3  0.797242 -0.966012\n",
       "4 -1.797160 -2.307109"
      ]
     },
     "execution_count": 13,
     "metadata": {},
     "output_type": "execute_result"
    }
   ],
   "source": [
    "pca = PCA(n_components = 2)\n",
    "pca.fit(df)\n",
    "data_pca = pca.transform(scaled_data)\n",
    "data_pca = pd.DataFrame(data_pca,columns=['PC1','PC2'])\n",
    "data_pca.head()"
   ]
  },
  {
   "cell_type": "code",
   "execution_count": 16,
   "metadata": {},
   "outputs": [
    {
     "data": {
      "text/plain": [
       "PC1    1.97\n",
       "PC2    1.00\n",
       "dtype: float64"
      ]
     },
     "execution_count": 16,
     "metadata": {},
     "output_type": "execute_result"
    }
   ],
   "source": [
    "round(data_pca.std(), 2)"
   ]
  },
  {
   "cell_type": "markdown",
   "metadata": {},
   "source": [
    "## Level 2"
   ]
  },
  {
   "cell_type": "code",
   "execution_count": 28,
   "metadata": {},
   "outputs": [
    {
     "data": {
      "text/plain": [
       "(3.0, -3.0)"
      ]
     },
     "execution_count": 28,
     "metadata": {},
     "output_type": "execute_result"
    },
    {
     "data": {
      "image/png": "[encoded data removed]",
      "text/plain": [
       "<Figure size 640x480 with 1 Axes>"
      ]
     },
     "metadata": {},
     "output_type": "display_data"
    }
   ],
   "source": [
    "fig, ax = plt.subplots()\n",
    "\n",
    "ax.scatter(data_pca[\"PC1\"], data_pca[\"PC2\"])\n",
    "ax.set_xlim(5, -3)\n",
    "ax.set_ylim(3, -3)"
   ]
  },
  {
   "cell_type": "markdown",
   "metadata": {},
   "source": [
    "## Level 3"
   ]
  },
  {
   "cell_type": "code",
   "execution_count": 30,
   "metadata": {},
   "outputs": [
    {
     "data": {
      "text/plain": [
       "<zipfile.ZipFile [closed]>"
      ]
     },
     "execution_count": 30,
     "metadata": {},
     "output_type": "execute_result"
    }
   ],
   "source": [
    "with ZipFile('./encrypted.zip') as zf:\n",
    "    zf.extractall(pwd=b'metapoint')"
   ]
  },
  {
   "cell_type": "code",
   "execution_count": 32,
   "metadata": {},
   "outputs": [
    {
     "data": {
      "text/html": [
       "<div>\n",
       "<style scoped>\n",
       "    .dataframe tbody tr th:only-of-type {\n",
       "        vertical-align: middle;\n",
       "    }\n",
       "\n",
       "    .dataframe tbody tr th {\n",
       "        vertical-align: top;\n",
       "    }\n",
       "\n",
       "    .dataframe thead th {\n",
       "        text-align: right;\n",
       "    }\n",
       "</style>\n",
       "<table border=\"1\" class=\"dataframe\">\n",
       "  <thead>\n",
       "    <tr style=\"text-align: right;\">\n",
       "      <th></th>\n",
       "      <th>MODE</th>\n",
       "      <th>POWER</th>\n",
       "      <th>AMPS</th>\n",
       "      <th>VOLTS</th>\n",
       "      <th>TEMP</th>\n",
       "      <th>UNIT</th>\n",
       "      <th>DELTA</th>\n",
       "      <th>GAMMA</th>\n",
       "      <th>OUTPUT</th>\n",
       "    </tr>\n",
       "  </thead>\n",
       "  <tbody>\n",
       "    <tr>\n",
       "      <th>0</th>\n",
       "      <td>REDACTED</td>\n",
       "      <td>high</td>\n",
       "      <td>0.585</td>\n",
       "      <td>4.347</td>\n",
       "      <td>66.812</td>\n",
       "      <td>C</td>\n",
       "      <td>-0.659</td>\n",
       "      <td>-0.527</td>\n",
       "      <td>3.749</td>\n",
       "    </tr>\n",
       "    <tr>\n",
       "      <th>1</th>\n",
       "      <td>beam</td>\n",
       "      <td>low</td>\n",
       "      <td>0.687</td>\n",
       "      <td>2.412</td>\n",
       "      <td>-17.044</td>\n",
       "      <td>C</td>\n",
       "      <td>0.508</td>\n",
       "      <td>-0.371</td>\n",
       "      <td>-1.062</td>\n",
       "    </tr>\n",
       "    <tr>\n",
       "      <th>2</th>\n",
       "      <td>REDACTED</td>\n",
       "      <td>low</td>\n",
       "      <td>0.888</td>\n",
       "      <td>2.979</td>\n",
       "      <td>40.918</td>\n",
       "      <td>C</td>\n",
       "      <td>0.600</td>\n",
       "      <td>1.412</td>\n",
       "      <td>2.265</td>\n",
       "    </tr>\n",
       "    <tr>\n",
       "      <th>3</th>\n",
       "      <td>auto</td>\n",
       "      <td>low</td>\n",
       "      <td>0.114</td>\n",
       "      <td>0.754</td>\n",
       "      <td>-43.308</td>\n",
       "      <td>C</td>\n",
       "      <td>-0.760</td>\n",
       "      <td>-0.109</td>\n",
       "      <td>1.847</td>\n",
       "    </tr>\n",
       "    <tr>\n",
       "      <th>4</th>\n",
       "      <td>burst</td>\n",
       "      <td>high</td>\n",
       "      <td>0.318</td>\n",
       "      <td>3.955</td>\n",
       "      <td>37.752</td>\n",
       "      <td>C</td>\n",
       "      <td>-0.751</td>\n",
       "      <td>0.492</td>\n",
       "      <td>1.821</td>\n",
       "    </tr>\n",
       "  </tbody>\n",
       "</table>\n",
       "</div>"
      ],
      "text/plain": [
       "       MODE POWER   AMPS  VOLTS    TEMP UNIT  DELTA  GAMMA  OUTPUT\n",
       "0  REDACTED  high  0.585  4.347  66.812    C -0.659 -0.527   3.749\n",
       "1      beam   low  0.687  2.412 -17.044    C  0.508 -0.371  -1.062\n",
       "2  REDACTED   low  0.888  2.979  40.918    C  0.600  1.412   2.265\n",
       "3      auto   low  0.114  0.754 -43.308    C -0.760 -0.109   1.847\n",
       "4     burst  high  0.318  3.955  37.752    C -0.751  0.492   1.821"
      ]
     },
     "execution_count": 32,
     "metadata": {},
     "output_type": "execute_result"
    }
   ],
   "source": [
    "train_df = pd.read_csv(\"train_data.csv\")\n",
    "test_df = pd.read_csv(\"test_data.csv\")\n",
    "train_df.head()"
   ]
  },
  {
   "cell_type": "code",
   "execution_count": 66,
   "metadata": {},
   "outputs": [
    {
     "data": {
      "text/plain": [
       "(984, 9)"
      ]
     },
     "execution_count": 66,
     "metadata": {},
     "output_type": "execute_result"
    }
   ],
   "source": [
    "train_df.shape"
   ]
  },
  {
   "cell_type": "code",
   "execution_count": 38,
   "metadata": {},
   "outputs": [
    {
     "data": {
      "text/plain": [
       "array(['MODE', 'POWER', 'AMPS', 'VOLTS', 'TEMP', 'UNIT', 'DELTA', 'GAMMA',\n",
       "       'OUTPUT'], dtype=object)"
      ]
     },
     "execution_count": 38,
     "metadata": {},
     "output_type": "execute_result"
    }
   ],
   "source": [
    "labels = np.array(train_df.columns.array)\n",
    "labels"
   ]
  },
  {
   "cell_type": "code",
   "execution_count": 48,
   "metadata": {},
   "outputs": [
    {
     "data": {
      "text/plain": [
       "MODE      0\n",
       "POWER     0\n",
       "AMPS      0\n",
       "VOLTS     0\n",
       "TEMP      0\n",
       "UNIT      0\n",
       "DELTA     0\n",
       "GAMMA     0\n",
       "OUTPUT    0\n",
       "dtype: int64"
      ]
     },
     "execution_count": 48,
     "metadata": {},
     "output_type": "execute_result"
    }
   ],
   "source": [
    "train_df[labels].isnull().sum()"
   ]
  },
  {
   "cell_type": "code",
   "execution_count": 47,
   "metadata": {},
   "outputs": [
    {
     "data": {
      "text/plain": [
       "(984, 9)"
      ]
     },
     "execution_count": 47,
     "metadata": {},
     "output_type": "execute_result"
    }
   ],
   "source": [
    "train_df = train_df.dropna()\n",
    "train_df.shape"
   ]
  },
  {
   "cell_type": "code",
   "execution_count": 70,
   "metadata": {},
   "outputs": [
    {
     "data": {
      "text/html": [
       "<div>\n",
       "<style scoped>\n",
       "    .dataframe tbody tr th:only-of-type {\n",
       "        vertical-align: middle;\n",
       "    }\n",
       "\n",
       "    .dataframe tbody tr th {\n",
       "        vertical-align: top;\n",
       "    }\n",
       "\n",
       "    .dataframe thead th {\n",
       "        text-align: right;\n",
       "    }\n",
       "</style>\n",
       "<table border=\"1\" class=\"dataframe\">\n",
       "  <thead>\n",
       "    <tr style=\"text-align: right;\">\n",
       "      <th></th>\n",
       "      <th>MODE</th>\n",
       "      <th>POWER</th>\n",
       "      <th>AMPS</th>\n",
       "      <th>VOLTS</th>\n",
       "      <th>TEMP</th>\n",
       "      <th>UNIT</th>\n",
       "      <th>DELTA</th>\n",
       "      <th>GAMMA</th>\n",
       "      <th>OUTPUT</th>\n",
       "    </tr>\n",
       "  </thead>\n",
       "  <tbody>\n",
       "    <tr>\n",
       "      <th>0</th>\n",
       "      <td>REDACTED</td>\n",
       "      <td>high</td>\n",
       "      <td>0.585</td>\n",
       "      <td>4.347</td>\n",
       "      <td>66.812</td>\n",
       "      <td>C</td>\n",
       "      <td>-0.659</td>\n",
       "      <td>-0.527</td>\n",
       "      <td>3.749</td>\n",
       "    </tr>\n",
       "    <tr>\n",
       "      <th>1</th>\n",
       "      <td>beam</td>\n",
       "      <td>low</td>\n",
       "      <td>0.687</td>\n",
       "      <td>2.412</td>\n",
       "      <td>-17.044</td>\n",
       "      <td>C</td>\n",
       "      <td>0.508</td>\n",
       "      <td>-0.371</td>\n",
       "      <td>-1.062</td>\n",
       "    </tr>\n",
       "    <tr>\n",
       "      <th>2</th>\n",
       "      <td>REDACTED</td>\n",
       "      <td>low</td>\n",
       "      <td>0.888</td>\n",
       "      <td>2.979</td>\n",
       "      <td>40.918</td>\n",
       "      <td>C</td>\n",
       "      <td>0.600</td>\n",
       "      <td>1.412</td>\n",
       "      <td>2.265</td>\n",
       "    </tr>\n",
       "    <tr>\n",
       "      <th>3</th>\n",
       "      <td>auto</td>\n",
       "      <td>low</td>\n",
       "      <td>0.114</td>\n",
       "      <td>0.754</td>\n",
       "      <td>-43.308</td>\n",
       "      <td>C</td>\n",
       "      <td>-0.760</td>\n",
       "      <td>-0.109</td>\n",
       "      <td>1.847</td>\n",
       "    </tr>\n",
       "    <tr>\n",
       "      <th>4</th>\n",
       "      <td>burst</td>\n",
       "      <td>high</td>\n",
       "      <td>0.318</td>\n",
       "      <td>3.955</td>\n",
       "      <td>37.752</td>\n",
       "      <td>C</td>\n",
       "      <td>-0.751</td>\n",
       "      <td>0.492</td>\n",
       "      <td>1.821</td>\n",
       "    </tr>\n",
       "  </tbody>\n",
       "</table>\n",
       "</div>"
      ],
      "text/plain": [
       "       MODE POWER   AMPS  VOLTS    TEMP UNIT  DELTA  GAMMA  OUTPUT\n",
       "0  REDACTED  high  0.585  4.347  66.812    C -0.659 -0.527   3.749\n",
       "1      beam   low  0.687  2.412 -17.044    C  0.508 -0.371  -1.062\n",
       "2  REDACTED   low  0.888  2.979  40.918    C  0.600  1.412   2.265\n",
       "3      auto   low  0.114  0.754 -43.308    C -0.760 -0.109   1.847\n",
       "4     burst  high  0.318  3.955  37.752    C -0.751  0.492   1.821"
      ]
     },
     "execution_count": 70,
     "metadata": {},
     "output_type": "execute_result"
    }
   ],
   "source": [
    "train_df.head()"
   ]
  },
  {
   "cell_type": "code",
   "execution_count": 82,
   "metadata": {},
   "outputs": [
    {
     "name": "stderr",
     "output_type": "stream",
     "text": [
      "C:\\Users\\s8gre\\AppData\\Local\\Temp\\ipykernel_23548\\1608942874.py:1: SettingWithCopyWarning: \n",
      "A value is trying to be set on a copy of a slice from a DataFrame\n",
      "\n",
      "See the caveats in the documentation: https://pandas.pydata.org/pandas-docs/stable/user_guide/indexing.html#returning-a-view-versus-a-copy\n",
      "  train_df.drop(train_df[(train_df[\"AMPS\"] < 0.0) | (train_df[\"AMPS\"] > 1.0)].index, inplace=True)\n"
     ]
    }
   ],
   "source": [
    "train_df.drop(train_df[(train_df[\"AMPS\"] < 0.0) | (train_df[\"AMPS\"] > 1.0)].index, inplace=True)"
   ]
  },
  {
   "cell_type": "code",
   "execution_count": 78,
   "metadata": {},
   "outputs": [
    {
     "data": {
      "text/html": [
       "<div>\n",
       "<style scoped>\n",
       "    .dataframe tbody tr th:only-of-type {\n",
       "        vertical-align: middle;\n",
       "    }\n",
       "\n",
       "    .dataframe tbody tr th {\n",
       "        vertical-align: top;\n",
       "    }\n",
       "\n",
       "    .dataframe thead th {\n",
       "        text-align: right;\n",
       "    }\n",
       "</style>\n",
       "<table border=\"1\" class=\"dataframe\">\n",
       "  <thead>\n",
       "    <tr style=\"text-align: right;\">\n",
       "      <th></th>\n",
       "      <th>MODE</th>\n",
       "      <th>POWER</th>\n",
       "      <th>AMPS</th>\n",
       "      <th>VOLTS</th>\n",
       "      <th>TEMP</th>\n",
       "      <th>UNIT</th>\n",
       "      <th>DELTA</th>\n",
       "      <th>GAMMA</th>\n",
       "      <th>OUTPUT</th>\n",
       "    </tr>\n",
       "  </thead>\n",
       "  <tbody>\n",
       "  </tbody>\n",
       "</table>\n",
       "</div>"
      ],
      "text/plain": [
       "Empty DataFrame\n",
       "Columns: [MODE, POWER, AMPS, VOLTS, TEMP, UNIT, DELTA, GAMMA, OUTPUT]\n",
       "Index: []"
      ]
     },
     "execution_count": 78,
     "metadata": {},
     "output_type": "execute_result"
    }
   ],
   "source": [
    "train_df[(train_df[\"VOLTS\"] < 0.02) | (train_df[\"VOLTS\"] > 8.7)]"
   ]
  },
  {
   "cell_type": "code",
   "execution_count": 77,
   "metadata": {},
   "outputs": [
    {
     "data": {
      "text/html": [
       "<div>\n",
       "<style scoped>\n",
       "    .dataframe tbody tr th:only-of-type {\n",
       "        vertical-align: middle;\n",
       "    }\n",
       "\n",
       "    .dataframe tbody tr th {\n",
       "        vertical-align: top;\n",
       "    }\n",
       "\n",
       "    .dataframe thead th {\n",
       "        text-align: right;\n",
       "    }\n",
       "</style>\n",
       "<table border=\"1\" class=\"dataframe\">\n",
       "  <thead>\n",
       "    <tr style=\"text-align: right;\">\n",
       "      <th></th>\n",
       "      <th>MODE</th>\n",
       "      <th>POWER</th>\n",
       "      <th>AMPS</th>\n",
       "      <th>VOLTS</th>\n",
       "      <th>TEMP</th>\n",
       "      <th>UNIT</th>\n",
       "      <th>DELTA</th>\n",
       "      <th>GAMMA</th>\n",
       "      <th>OUTPUT</th>\n",
       "    </tr>\n",
       "  </thead>\n",
       "  <tbody>\n",
       "  </tbody>\n",
       "</table>\n",
       "</div>"
      ],
      "text/plain": [
       "Empty DataFrame\n",
       "Columns: [MODE, POWER, AMPS, VOLTS, TEMP, UNIT, DELTA, GAMMA, OUTPUT]\n",
       "Index: []"
      ]
     },
     "execution_count": 77,
     "metadata": {},
     "output_type": "execute_result"
    }
   ],
   "source": [
    "train_df[(train_df[\"TEMP\"] < -100) | (train_df[\"TEMP\"] > 373.15)]"
   ]
  },
  {
   "cell_type": "code",
   "execution_count": 76,
   "metadata": {},
   "outputs": [
    {
     "data": {
      "text/html": [
       "<div>\n",
       "<style scoped>\n",
       "    .dataframe tbody tr th:only-of-type {\n",
       "        vertical-align: middle;\n",
       "    }\n",
       "\n",
       "    .dataframe tbody tr th {\n",
       "        vertical-align: top;\n",
       "    }\n",
       "\n",
       "    .dataframe thead th {\n",
       "        text-align: right;\n",
       "    }\n",
       "</style>\n",
       "<table border=\"1\" class=\"dataframe\">\n",
       "  <thead>\n",
       "    <tr style=\"text-align: right;\">\n",
       "      <th></th>\n",
       "      <th>MODE</th>\n",
       "      <th>POWER</th>\n",
       "      <th>AMPS</th>\n",
       "      <th>VOLTS</th>\n",
       "      <th>TEMP</th>\n",
       "      <th>UNIT</th>\n",
       "      <th>DELTA</th>\n",
       "      <th>GAMMA</th>\n",
       "      <th>OUTPUT</th>\n",
       "    </tr>\n",
       "  </thead>\n",
       "  <tbody>\n",
       "  </tbody>\n",
       "</table>\n",
       "</div>"
      ],
      "text/plain": [
       "Empty DataFrame\n",
       "Columns: [MODE, POWER, AMPS, VOLTS, TEMP, UNIT, DELTA, GAMMA, OUTPUT]\n",
       "Index: []"
      ]
     },
     "execution_count": 76,
     "metadata": {},
     "output_type": "execute_result"
    }
   ],
   "source": [
    "train_df[(train_df[\"DELTA\"] < -1) | (train_df[\"DELTA\"] > 1)]"
   ]
  },
  {
   "cell_type": "code",
   "execution_count": 75,
   "metadata": {},
   "outputs": [
    {
     "data": {
      "text/html": [
       "<div>\n",
       "<style scoped>\n",
       "    .dataframe tbody tr th:only-of-type {\n",
       "        vertical-align: middle;\n",
       "    }\n",
       "\n",
       "    .dataframe tbody tr th {\n",
       "        vertical-align: top;\n",
       "    }\n",
       "\n",
       "    .dataframe thead th {\n",
       "        text-align: right;\n",
       "    }\n",
       "</style>\n",
       "<table border=\"1\" class=\"dataframe\">\n",
       "  <thead>\n",
       "    <tr style=\"text-align: right;\">\n",
       "      <th></th>\n",
       "      <th>MODE</th>\n",
       "      <th>POWER</th>\n",
       "      <th>AMPS</th>\n",
       "      <th>VOLTS</th>\n",
       "      <th>TEMP</th>\n",
       "      <th>UNIT</th>\n",
       "      <th>DELTA</th>\n",
       "      <th>GAMMA</th>\n",
       "      <th>OUTPUT</th>\n",
       "    </tr>\n",
       "  </thead>\n",
       "  <tbody>\n",
       "  </tbody>\n",
       "</table>\n",
       "</div>"
      ],
      "text/plain": [
       "Empty DataFrame\n",
       "Columns: [MODE, POWER, AMPS, VOLTS, TEMP, UNIT, DELTA, GAMMA, OUTPUT]\n",
       "Index: []"
      ]
     },
     "execution_count": 75,
     "metadata": {},
     "output_type": "execute_result"
    }
   ],
   "source": [
    "train_df[(train_df[\"GAMMA\"] < -2) | (train_df[\"GAMMA\"] > 2)]"
   ]
  },
  {
   "cell_type": "code",
   "execution_count": 74,
   "metadata": {},
   "outputs": [
    {
     "data": {
      "text/html": [
       "<div>\n",
       "<style scoped>\n",
       "    .dataframe tbody tr th:only-of-type {\n",
       "        vertical-align: middle;\n",
       "    }\n",
       "\n",
       "    .dataframe tbody tr th {\n",
       "        vertical-align: top;\n",
       "    }\n",
       "\n",
       "    .dataframe thead th {\n",
       "        text-align: right;\n",
       "    }\n",
       "</style>\n",
       "<table border=\"1\" class=\"dataframe\">\n",
       "  <thead>\n",
       "    <tr style=\"text-align: right;\">\n",
       "      <th></th>\n",
       "      <th>MODE</th>\n",
       "      <th>POWER</th>\n",
       "      <th>AMPS</th>\n",
       "      <th>VOLTS</th>\n",
       "      <th>TEMP</th>\n",
       "      <th>UNIT</th>\n",
       "      <th>DELTA</th>\n",
       "      <th>GAMMA</th>\n",
       "      <th>OUTPUT</th>\n",
       "    </tr>\n",
       "  </thead>\n",
       "  <tbody>\n",
       "  </tbody>\n",
       "</table>\n",
       "</div>"
      ],
      "text/plain": [
       "Empty DataFrame\n",
       "Columns: [MODE, POWER, AMPS, VOLTS, TEMP, UNIT, DELTA, GAMMA, OUTPUT]\n",
       "Index: []"
      ]
     },
     "execution_count": 74,
     "metadata": {},
     "output_type": "execute_result"
    }
   ],
   "source": [
    "train_df[(train_df[\"OUTPUT\"] < -8.4) | (train_df[\"OUTPUT\"] > 9.3)]"
   ]
  },
  {
   "cell_type": "code",
   "execution_count": 83,
   "metadata": {},
   "outputs": [
    {
     "data": {
      "text/plain": [
       "(971, 9)"
      ]
     },
     "execution_count": 83,
     "metadata": {},
     "output_type": "execute_result"
    }
   ],
   "source": [
    "train_df.shape"
   ]
  },
  {
   "cell_type": "markdown",
   "metadata": {},
   "source": [
    "## Level 4"
   ]
  },
  {
   "cell_type": "code",
   "execution_count": 84,
   "metadata": {},
   "outputs": [
    {
     "data": {
      "text/html": [
       "<div>\n",
       "<style scoped>\n",
       "    .dataframe tbody tr th:only-of-type {\n",
       "        vertical-align: middle;\n",
       "    }\n",
       "\n",
       "    .dataframe tbody tr th {\n",
       "        vertical-align: top;\n",
       "    }\n",
       "\n",
       "    .dataframe thead th {\n",
       "        text-align: right;\n",
       "    }\n",
       "</style>\n",
       "<table border=\"1\" class=\"dataframe\">\n",
       "  <thead>\n",
       "    <tr style=\"text-align: right;\">\n",
       "      <th></th>\n",
       "      <th>MODE</th>\n",
       "      <th>POWER</th>\n",
       "      <th>AMPS</th>\n",
       "      <th>VOLTS</th>\n",
       "      <th>TEMP</th>\n",
       "      <th>UNIT</th>\n",
       "      <th>DELTA</th>\n",
       "      <th>GAMMA</th>\n",
       "      <th>OUTPUT</th>\n",
       "    </tr>\n",
       "  </thead>\n",
       "  <tbody>\n",
       "    <tr>\n",
       "      <th>0</th>\n",
       "      <td>REDACTED</td>\n",
       "      <td>high</td>\n",
       "      <td>0.585</td>\n",
       "      <td>4.347</td>\n",
       "      <td>66.812</td>\n",
       "      <td>C</td>\n",
       "      <td>-0.659</td>\n",
       "      <td>-0.527</td>\n",
       "      <td>3.749</td>\n",
       "    </tr>\n",
       "    <tr>\n",
       "      <th>1</th>\n",
       "      <td>beam</td>\n",
       "      <td>low</td>\n",
       "      <td>0.687</td>\n",
       "      <td>2.412</td>\n",
       "      <td>-17.044</td>\n",
       "      <td>C</td>\n",
       "      <td>0.508</td>\n",
       "      <td>-0.371</td>\n",
       "      <td>-1.062</td>\n",
       "    </tr>\n",
       "    <tr>\n",
       "      <th>2</th>\n",
       "      <td>REDACTED</td>\n",
       "      <td>low</td>\n",
       "      <td>0.888</td>\n",
       "      <td>2.979</td>\n",
       "      <td>40.918</td>\n",
       "      <td>C</td>\n",
       "      <td>0.600</td>\n",
       "      <td>1.412</td>\n",
       "      <td>2.265</td>\n",
       "    </tr>\n",
       "    <tr>\n",
       "      <th>3</th>\n",
       "      <td>auto</td>\n",
       "      <td>low</td>\n",
       "      <td>0.114</td>\n",
       "      <td>0.754</td>\n",
       "      <td>-43.308</td>\n",
       "      <td>C</td>\n",
       "      <td>-0.760</td>\n",
       "      <td>-0.109</td>\n",
       "      <td>1.847</td>\n",
       "    </tr>\n",
       "    <tr>\n",
       "      <th>4</th>\n",
       "      <td>burst</td>\n",
       "      <td>high</td>\n",
       "      <td>0.318</td>\n",
       "      <td>3.955</td>\n",
       "      <td>37.752</td>\n",
       "      <td>C</td>\n",
       "      <td>-0.751</td>\n",
       "      <td>0.492</td>\n",
       "      <td>1.821</td>\n",
       "    </tr>\n",
       "  </tbody>\n",
       "</table>\n",
       "</div>"
      ],
      "text/plain": [
       "       MODE POWER   AMPS  VOLTS    TEMP UNIT  DELTA  GAMMA  OUTPUT\n",
       "0  REDACTED  high  0.585  4.347  66.812    C -0.659 -0.527   3.749\n",
       "1      beam   low  0.687  2.412 -17.044    C  0.508 -0.371  -1.062\n",
       "2  REDACTED   low  0.888  2.979  40.918    C  0.600  1.412   2.265\n",
       "3      auto   low  0.114  0.754 -43.308    C -0.760 -0.109   1.847\n",
       "4     burst  high  0.318  3.955  37.752    C -0.751  0.492   1.821"
      ]
     },
     "execution_count": 84,
     "metadata": {},
     "output_type": "execute_result"
    }
   ],
   "source": [
    "train_df.head()"
   ]
  },
  {
   "cell_type": "code",
   "execution_count": 91,
   "metadata": {},
   "outputs": [
    {
     "data": {
      "text/plain": [
       "11    -16.690\n",
       "12     11.143\n",
       "15     99.437\n",
       "17     77.756\n",
       "18    -18.798\n",
       "        ...  \n",
       "983   -35.493\n",
       "986    68.303\n",
       "987    81.332\n",
       "991    20.805\n",
       "995     1.431\n",
       "Name: TEMP, Length: 221, dtype: float64"
      ]
     },
     "execution_count": 91,
     "metadata": {},
     "output_type": "execute_result"
    }
   ],
   "source": [
    "train_df.loc[train_df[\"UNIT\"] == \"K\",\"TEMP\"] += -273.15\n",
    "train_df[train_df[\"UNIT\"] == \"K\"][\"TEMP\"]"
   ]
  },
  {
   "cell_type": "code",
   "execution_count": 95,
   "metadata": {},
   "outputs": [
    {
     "name": "stdout",
     "output_type": "stream",
     "text": [
      "-0.69\n",
      "48\n"
     ]
    }
   ],
   "source": [
    "print(round(train_df[train_df[\"UNIT\"] == \"K\"][\"TEMP\"].mean(), 2))\n",
    "print(round(train_df[train_df[\"UNIT\"] == \"K\"][\"TEMP\"].std()))"
   ]
  },
  {
   "cell_type": "code",
   "execution_count": 105,
   "metadata": {},
   "outputs": [
    {
     "name": "stdout",
     "output_type": "stream",
     "text": [
      "Celcius min and max:  -100.0 100.0\n"
     ]
    }
   ],
   "source": [
    "print(\"Celcius min and max: \", train_df[train_df[\"UNIT\"] == \"C\"][\"TEMP\"].min(), train_df[train_df[\"UNIT\"] == \"C\"][\"TEMP\"].max())\n"
   ]
  },
  {
   "cell_type": "code",
   "execution_count": 117,
   "metadata": {},
   "outputs": [
    {
     "data": {
      "text/plain": [
       "array(['C', '?', 'K'], dtype=object)"
      ]
     },
     "execution_count": 117,
     "metadata": {},
     "output_type": "execute_result"
    }
   ],
   "source": [
    "train_df[\"UNIT\"].unique()"
   ]
  },
  {
   "cell_type": "code",
   "execution_count": 144,
   "metadata": {},
   "outputs": [
    {
     "data": {
      "text/plain": [
       "34      62.528\n",
       "46     -10.217\n",
       "53     -38.861\n",
       "72     -51.780\n",
       "77     -71.347\n",
       "86      -6.353\n",
       "96      23.665\n",
       "100     37.693\n",
       "142    -25.480\n",
       "145    -50.623\n",
       "157    -58.455\n",
       "162     49.412\n",
       "178    -48.255\n",
       "210    -50.328\n",
       "213     40.673\n",
       "220     21.213\n",
       "224     86.729\n",
       "235     -0.557\n",
       "272    -43.061\n",
       "289     54.929\n",
       "300    -31.449\n",
       "332     25.001\n",
       "340     67.204\n",
       "367    -31.054\n",
       "368    -43.168\n",
       "405    -38.442\n",
       "449    -22.396\n",
       "451    -28.763\n",
       "464     53.504\n",
       "489    -15.000\n",
       "532     28.631\n",
       "553    -92.457\n",
       "576     -9.936\n",
       "609     33.978\n",
       "612    -42.454\n",
       "631    -11.727\n",
       "658     81.475\n",
       "683      7.083\n",
       "687    -21.189\n",
       "720    -46.629\n",
       "728    -29.834\n",
       "733     55.175\n",
       "763    -54.914\n",
       "777    -11.079\n",
       "808    -44.409\n",
       "842     70.993\n",
       "852     89.846\n",
       "893   -100.000\n",
       "954     28.353\n",
       "958    -25.695\n",
       "997    -71.590\n",
       "Name: TEMP, dtype: float64"
      ]
     },
     "execution_count": 144,
     "metadata": {},
     "output_type": "execute_result"
    }
   ],
   "source": [
    "cond = (train_df[train_df[\"UNIT\"] == \"?\"][\"TEMP\"] > 100.0) | (train_df[train_df[\"UNIT\"] == \"?\"][\"TEMP\"] < -100.0)\n",
    "# this are kelvin values\n",
    "train_df.loc[train_df[\"UNIT\"] == \"?\", \"TEMP\"] = np.where(cond, train_df.loc[train_df[\"UNIT\"] == \"?\", \"TEMP\"] -273.15, train_df.loc[train_df[\"UNIT\"] == \"?\", \"TEMP\"])\n",
    "train_df[train_df[\"UNIT\"] == \"?\"][\"TEMP\"][cond]"
   ]
  },
  {
   "cell_type": "code",
   "execution_count": 146,
   "metadata": {},
   "outputs": [],
   "source": [
    "# removing not needed unit table => now everything is celcius \n",
    "del train_df[\"UNIT\"]"
   ]
  },
  {
   "cell_type": "code",
   "execution_count": 147,
   "metadata": {},
   "outputs": [
    {
     "data": {
      "text/plain": [
       "(971, 8)"
      ]
     },
     "execution_count": 147,
     "metadata": {},
     "output_type": "execute_result"
    }
   ],
   "source": [
    "train_df.shape"
   ]
  },
  {
   "cell_type": "code",
   "execution_count": 148,
   "metadata": {},
   "outputs": [
    {
     "data": {
      "text/html": [
       "<div>\n",
       "<style scoped>\n",
       "    .dataframe tbody tr th:only-of-type {\n",
       "        vertical-align: middle;\n",
       "    }\n",
       "\n",
       "    .dataframe tbody tr th {\n",
       "        vertical-align: top;\n",
       "    }\n",
       "\n",
       "    .dataframe thead th {\n",
       "        text-align: right;\n",
       "    }\n",
       "</style>\n",
       "<table border=\"1\" class=\"dataframe\">\n",
       "  <thead>\n",
       "    <tr style=\"text-align: right;\">\n",
       "      <th></th>\n",
       "      <th>MODE</th>\n",
       "      <th>POWER</th>\n",
       "      <th>AMPS</th>\n",
       "      <th>VOLTS</th>\n",
       "      <th>TEMP</th>\n",
       "      <th>DELTA</th>\n",
       "      <th>GAMMA</th>\n",
       "      <th>OUTPUT</th>\n",
       "    </tr>\n",
       "  </thead>\n",
       "  <tbody>\n",
       "    <tr>\n",
       "      <th>0</th>\n",
       "      <td>REDACTED</td>\n",
       "      <td>high</td>\n",
       "      <td>0.585</td>\n",
       "      <td>4.347</td>\n",
       "      <td>66.812</td>\n",
       "      <td>-0.659</td>\n",
       "      <td>-0.527</td>\n",
       "      <td>3.749</td>\n",
       "    </tr>\n",
       "    <tr>\n",
       "      <th>1</th>\n",
       "      <td>beam</td>\n",
       "      <td>low</td>\n",
       "      <td>0.687</td>\n",
       "      <td>2.412</td>\n",
       "      <td>-17.044</td>\n",
       "      <td>0.508</td>\n",
       "      <td>-0.371</td>\n",
       "      <td>-1.062</td>\n",
       "    </tr>\n",
       "    <tr>\n",
       "      <th>2</th>\n",
       "      <td>REDACTED</td>\n",
       "      <td>low</td>\n",
       "      <td>0.888</td>\n",
       "      <td>2.979</td>\n",
       "      <td>40.918</td>\n",
       "      <td>0.600</td>\n",
       "      <td>1.412</td>\n",
       "      <td>2.265</td>\n",
       "    </tr>\n",
       "    <tr>\n",
       "      <th>3</th>\n",
       "      <td>auto</td>\n",
       "      <td>low</td>\n",
       "      <td>0.114</td>\n",
       "      <td>0.754</td>\n",
       "      <td>-43.308</td>\n",
       "      <td>-0.760</td>\n",
       "      <td>-0.109</td>\n",
       "      <td>1.847</td>\n",
       "    </tr>\n",
       "    <tr>\n",
       "      <th>4</th>\n",
       "      <td>burst</td>\n",
       "      <td>high</td>\n",
       "      <td>0.318</td>\n",
       "      <td>3.955</td>\n",
       "      <td>37.752</td>\n",
       "      <td>-0.751</td>\n",
       "      <td>0.492</td>\n",
       "      <td>1.821</td>\n",
       "    </tr>\n",
       "  </tbody>\n",
       "</table>\n",
       "</div>"
      ],
      "text/plain": [
       "       MODE POWER   AMPS  VOLTS    TEMP  DELTA  GAMMA  OUTPUT\n",
       "0  REDACTED  high  0.585  4.347  66.812 -0.659 -0.527   3.749\n",
       "1      beam   low  0.687  2.412 -17.044  0.508 -0.371  -1.062\n",
       "2  REDACTED   low  0.888  2.979  40.918  0.600  1.412   2.265\n",
       "3      auto   low  0.114  0.754 -43.308 -0.760 -0.109   1.847\n",
       "4     burst  high  0.318  3.955  37.752 -0.751  0.492   1.821"
      ]
     },
     "execution_count": 148,
     "metadata": {},
     "output_type": "execute_result"
    }
   ],
   "source": [
    "train_df.head()"
   ]
  },
  {
   "cell_type": "markdown",
   "metadata": {},
   "source": [
    "## Level 5, 6, 8, 9"
   ]
  },
  {
   "cell_type": "code",
   "execution_count": 158,
   "metadata": {},
   "outputs": [
    {
     "data": {
      "text/html": [
       "<div>\n",
       "<style scoped>\n",
       "    .dataframe tbody tr th:only-of-type {\n",
       "        vertical-align: middle;\n",
       "    }\n",
       "\n",
       "    .dataframe tbody tr th {\n",
       "        vertical-align: top;\n",
       "    }\n",
       "\n",
       "    .dataframe thead th {\n",
       "        text-align: right;\n",
       "    }\n",
       "</style>\n",
       "<table border=\"1\" class=\"dataframe\">\n",
       "  <thead>\n",
       "    <tr style=\"text-align: right;\">\n",
       "      <th></th>\n",
       "      <th>MODE</th>\n",
       "      <th>POWER</th>\n",
       "      <th>AMPS</th>\n",
       "      <th>VOLTS</th>\n",
       "      <th>TEMP</th>\n",
       "      <th>DELTA</th>\n",
       "      <th>GAMMA</th>\n",
       "      <th>OUTPUT</th>\n",
       "    </tr>\n",
       "  </thead>\n",
       "  <tbody>\n",
       "    <tr>\n",
       "      <th>0</th>\n",
       "      <td>REDACTED</td>\n",
       "      <td>high</td>\n",
       "      <td>0.585</td>\n",
       "      <td>4.347</td>\n",
       "      <td>66.812</td>\n",
       "      <td>-0.659</td>\n",
       "      <td>-0.527</td>\n",
       "      <td>3.749</td>\n",
       "    </tr>\n",
       "    <tr>\n",
       "      <th>1</th>\n",
       "      <td>beam</td>\n",
       "      <td>low</td>\n",
       "      <td>0.687</td>\n",
       "      <td>2.412</td>\n",
       "      <td>-17.044</td>\n",
       "      <td>0.508</td>\n",
       "      <td>-0.371</td>\n",
       "      <td>-1.062</td>\n",
       "    </tr>\n",
       "    <tr>\n",
       "      <th>2</th>\n",
       "      <td>REDACTED</td>\n",
       "      <td>low</td>\n",
       "      <td>0.888</td>\n",
       "      <td>2.979</td>\n",
       "      <td>40.918</td>\n",
       "      <td>0.600</td>\n",
       "      <td>1.412</td>\n",
       "      <td>2.265</td>\n",
       "    </tr>\n",
       "    <tr>\n",
       "      <th>3</th>\n",
       "      <td>auto</td>\n",
       "      <td>low</td>\n",
       "      <td>0.114</td>\n",
       "      <td>0.754</td>\n",
       "      <td>-43.308</td>\n",
       "      <td>-0.760</td>\n",
       "      <td>-0.109</td>\n",
       "      <td>1.847</td>\n",
       "    </tr>\n",
       "    <tr>\n",
       "      <th>4</th>\n",
       "      <td>burst</td>\n",
       "      <td>high</td>\n",
       "      <td>0.318</td>\n",
       "      <td>3.955</td>\n",
       "      <td>37.752</td>\n",
       "      <td>-0.751</td>\n",
       "      <td>0.492</td>\n",
       "      <td>1.821</td>\n",
       "    </tr>\n",
       "  </tbody>\n",
       "</table>\n",
       "</div>"
      ],
      "text/plain": [
       "       MODE POWER   AMPS  VOLTS    TEMP  DELTA  GAMMA  OUTPUT\n",
       "0  REDACTED  high  0.585  4.347  66.812 -0.659 -0.527   3.749\n",
       "1      beam   low  0.687  2.412 -17.044  0.508 -0.371  -1.062\n",
       "2  REDACTED   low  0.888  2.979  40.918  0.600  1.412   2.265\n",
       "3      auto   low  0.114  0.754 -43.308 -0.760 -0.109   1.847\n",
       "4     burst  high  0.318  3.955  37.752 -0.751  0.492   1.821"
      ]
     },
     "execution_count": 158,
     "metadata": {},
     "output_type": "execute_result"
    }
   ],
   "source": [
    "train_df.head()"
   ]
  },
  {
   "cell_type": "code",
   "execution_count": 151,
   "metadata": {},
   "outputs": [
    {
     "data": {
      "text/html": [
       "<div>\n",
       "<style scoped>\n",
       "    .dataframe tbody tr th:only-of-type {\n",
       "        vertical-align: middle;\n",
       "    }\n",
       "\n",
       "    .dataframe tbody tr th {\n",
       "        vertical-align: top;\n",
       "    }\n",
       "\n",
       "    .dataframe thead th {\n",
       "        text-align: right;\n",
       "    }\n",
       "</style>\n",
       "<table border=\"1\" class=\"dataframe\">\n",
       "  <thead>\n",
       "    <tr style=\"text-align: right;\">\n",
       "      <th></th>\n",
       "      <th>MODE</th>\n",
       "      <th>POWER</th>\n",
       "      <th>AMPS</th>\n",
       "      <th>VOLTS</th>\n",
       "      <th>TEMP</th>\n",
       "      <th>UNIT</th>\n",
       "      <th>DELTA</th>\n",
       "      <th>GAMMA</th>\n",
       "    </tr>\n",
       "  </thead>\n",
       "  <tbody>\n",
       "    <tr>\n",
       "      <th>0</th>\n",
       "      <td>REDACTED</td>\n",
       "      <td>high</td>\n",
       "      <td>0.126</td>\n",
       "      <td>7.489</td>\n",
       "      <td>14.284</td>\n",
       "      <td>C</td>\n",
       "      <td>-0.818</td>\n",
       "      <td>0.692</td>\n",
       "    </tr>\n",
       "    <tr>\n",
       "      <th>1</th>\n",
       "      <td>REDACTED</td>\n",
       "      <td>high</td>\n",
       "      <td>0.917</td>\n",
       "      <td>4.557</td>\n",
       "      <td>17.746</td>\n",
       "      <td>C</td>\n",
       "      <td>0.251</td>\n",
       "      <td>-0.709</td>\n",
       "    </tr>\n",
       "    <tr>\n",
       "      <th>2</th>\n",
       "      <td>REDACTED</td>\n",
       "      <td>high</td>\n",
       "      <td>0.508</td>\n",
       "      <td>2.928</td>\n",
       "      <td>-9.866</td>\n",
       "      <td>C</td>\n",
       "      <td>-0.273</td>\n",
       "      <td>1.056</td>\n",
       "    </tr>\n",
       "    <tr>\n",
       "      <th>3</th>\n",
       "      <td>auto</td>\n",
       "      <td>low</td>\n",
       "      <td>0.832</td>\n",
       "      <td>2.464</td>\n",
       "      <td>-32.047</td>\n",
       "      <td>C</td>\n",
       "      <td>0.145</td>\n",
       "      <td>-0.572</td>\n",
       "    </tr>\n",
       "    <tr>\n",
       "      <th>4</th>\n",
       "      <td>auto</td>\n",
       "      <td>low</td>\n",
       "      <td>0.501</td>\n",
       "      <td>2.711</td>\n",
       "      <td>1.349</td>\n",
       "      <td>C</td>\n",
       "      <td>0.431</td>\n",
       "      <td>-0.939</td>\n",
       "    </tr>\n",
       "  </tbody>\n",
       "</table>\n",
       "</div>"
      ],
      "text/plain": [
       "       MODE POWER   AMPS  VOLTS    TEMP UNIT  DELTA  GAMMA\n",
       "0  REDACTED  high  0.126  7.489  14.284    C -0.818  0.692\n",
       "1  REDACTED  high  0.917  4.557  17.746    C  0.251 -0.709\n",
       "2  REDACTED  high  0.508  2.928  -9.866    C -0.273  1.056\n",
       "3      auto   low  0.832  2.464 -32.047    C  0.145 -0.572\n",
       "4      auto   low  0.501  2.711   1.349    C  0.431 -0.939"
      ]
     },
     "execution_count": 151,
     "metadata": {},
     "output_type": "execute_result"
    }
   ],
   "source": [
    "test_df.head()"
   ]
  },
  {
   "cell_type": "code",
   "execution_count": 153,
   "metadata": {},
   "outputs": [
    {
     "data": {
      "text/plain": [
       "array(['C'], dtype=object)"
      ]
     },
     "execution_count": 153,
     "metadata": {},
     "output_type": "execute_result"
    }
   ],
   "source": [
    "test_df[\"UNIT\"].unique()"
   ]
  },
  {
   "cell_type": "code",
   "execution_count": 154,
   "metadata": {},
   "outputs": [],
   "source": [
    "del test_df[\"UNIT\"]"
   ]
  },
  {
   "cell_type": "code",
   "execution_count": 255,
   "metadata": {},
   "outputs": [
    {
     "data": {
      "text/html": [
       "<div>\n",
       "<style scoped>\n",
       "    .dataframe tbody tr th:only-of-type {\n",
       "        vertical-align: middle;\n",
       "    }\n",
       "\n",
       "    .dataframe tbody tr th {\n",
       "        vertical-align: top;\n",
       "    }\n",
       "\n",
       "    .dataframe thead th {\n",
       "        text-align: right;\n",
       "    }\n",
       "</style>\n",
       "<table border=\"1\" class=\"dataframe\">\n",
       "  <thead>\n",
       "    <tr style=\"text-align: right;\">\n",
       "      <th></th>\n",
       "      <th>AMPS</th>\n",
       "      <th>VOLTS</th>\n",
       "      <th>TEMP</th>\n",
       "      <th>DELTA</th>\n",
       "      <th>GAMMA</th>\n",
       "      <th>MODE_auto</th>\n",
       "      <th>MODE_beam</th>\n",
       "      <th>MODE_burst</th>\n",
       "      <th>POWER_low</th>\n",
       "    </tr>\n",
       "  </thead>\n",
       "  <tbody>\n",
       "    <tr>\n",
       "      <th>0</th>\n",
       "      <td>0.126</td>\n",
       "      <td>7.489</td>\n",
       "      <td>14.284</td>\n",
       "      <td>-0.818</td>\n",
       "      <td>0.692</td>\n",
       "      <td>0</td>\n",
       "      <td>0</td>\n",
       "      <td>0</td>\n",
       "      <td>0</td>\n",
       "    </tr>\n",
       "    <tr>\n",
       "      <th>1</th>\n",
       "      <td>0.917</td>\n",
       "      <td>4.557</td>\n",
       "      <td>17.746</td>\n",
       "      <td>0.251</td>\n",
       "      <td>-0.709</td>\n",
       "      <td>0</td>\n",
       "      <td>0</td>\n",
       "      <td>0</td>\n",
       "      <td>0</td>\n",
       "    </tr>\n",
       "    <tr>\n",
       "      <th>2</th>\n",
       "      <td>0.508</td>\n",
       "      <td>2.928</td>\n",
       "      <td>-9.866</td>\n",
       "      <td>-0.273</td>\n",
       "      <td>1.056</td>\n",
       "      <td>0</td>\n",
       "      <td>0</td>\n",
       "      <td>0</td>\n",
       "      <td>0</td>\n",
       "    </tr>\n",
       "    <tr>\n",
       "      <th>3</th>\n",
       "      <td>0.832</td>\n",
       "      <td>2.464</td>\n",
       "      <td>-32.047</td>\n",
       "      <td>0.145</td>\n",
       "      <td>-0.572</td>\n",
       "      <td>1</td>\n",
       "      <td>0</td>\n",
       "      <td>0</td>\n",
       "      <td>1</td>\n",
       "    </tr>\n",
       "    <tr>\n",
       "      <th>4</th>\n",
       "      <td>0.501</td>\n",
       "      <td>2.711</td>\n",
       "      <td>1.349</td>\n",
       "      <td>0.431</td>\n",
       "      <td>-0.939</td>\n",
       "      <td>1</td>\n",
       "      <td>0</td>\n",
       "      <td>0</td>\n",
       "      <td>1</td>\n",
       "    </tr>\n",
       "    <tr>\n",
       "      <th>...</th>\n",
       "      <td>...</td>\n",
       "      <td>...</td>\n",
       "      <td>...</td>\n",
       "      <td>...</td>\n",
       "      <td>...</td>\n",
       "      <td>...</td>\n",
       "      <td>...</td>\n",
       "      <td>...</td>\n",
       "      <td>...</td>\n",
       "    </tr>\n",
       "    <tr>\n",
       "      <th>2495</th>\n",
       "      <td>0.639</td>\n",
       "      <td>2.318</td>\n",
       "      <td>-21.235</td>\n",
       "      <td>-0.786</td>\n",
       "      <td>0.399</td>\n",
       "      <td>0</td>\n",
       "      <td>0</td>\n",
       "      <td>0</td>\n",
       "      <td>0</td>\n",
       "    </tr>\n",
       "    <tr>\n",
       "      <th>2496</th>\n",
       "      <td>0.630</td>\n",
       "      <td>1.569</td>\n",
       "      <td>-12.947</td>\n",
       "      <td>0.768</td>\n",
       "      <td>-0.001</td>\n",
       "      <td>0</td>\n",
       "      <td>0</td>\n",
       "      <td>0</td>\n",
       "      <td>0</td>\n",
       "    </tr>\n",
       "    <tr>\n",
       "      <th>2497</th>\n",
       "      <td>0.813</td>\n",
       "      <td>1.854</td>\n",
       "      <td>-29.502</td>\n",
       "      <td>-0.408</td>\n",
       "      <td>0.638</td>\n",
       "      <td>1</td>\n",
       "      <td>0</td>\n",
       "      <td>0</td>\n",
       "      <td>1</td>\n",
       "    </tr>\n",
       "    <tr>\n",
       "      <th>2498</th>\n",
       "      <td>0.172</td>\n",
       "      <td>3.663</td>\n",
       "      <td>-0.141</td>\n",
       "      <td>0.595</td>\n",
       "      <td>0.995</td>\n",
       "      <td>1</td>\n",
       "      <td>0</td>\n",
       "      <td>0</td>\n",
       "      <td>1</td>\n",
       "    </tr>\n",
       "    <tr>\n",
       "      <th>2499</th>\n",
       "      <td>0.644</td>\n",
       "      <td>2.496</td>\n",
       "      <td>45.466</td>\n",
       "      <td>-0.092</td>\n",
       "      <td>-0.130</td>\n",
       "      <td>0</td>\n",
       "      <td>1</td>\n",
       "      <td>0</td>\n",
       "      <td>1</td>\n",
       "    </tr>\n",
       "  </tbody>\n",
       "</table>\n",
       "<p>2500 rows × 9 columns</p>\n",
       "</div>"
      ],
      "text/plain": [
       "       AMPS  VOLTS    TEMP  DELTA  GAMMA  MODE_auto  MODE_beam  MODE_burst  \\\n",
       "0     0.126  7.489  14.284 -0.818  0.692          0          0           0   \n",
       "1     0.917  4.557  17.746  0.251 -0.709          0          0           0   \n",
       "2     0.508  2.928  -9.866 -0.273  1.056          0          0           0   \n",
       "3     0.832  2.464 -32.047  0.145 -0.572          1          0           0   \n",
       "4     0.501  2.711   1.349  0.431 -0.939          1          0           0   \n",
       "...     ...    ...     ...    ...    ...        ...        ...         ...   \n",
       "2495  0.639  2.318 -21.235 -0.786  0.399          0          0           0   \n",
       "2496  0.630  1.569 -12.947  0.768 -0.001          0          0           0   \n",
       "2497  0.813  1.854 -29.502 -0.408  0.638          1          0           0   \n",
       "2498  0.172  3.663  -0.141  0.595  0.995          1          0           0   \n",
       "2499  0.644  2.496  45.466 -0.092 -0.130          0          1           0   \n",
       "\n",
       "      POWER_low  \n",
       "0             0  \n",
       "1             0  \n",
       "2             0  \n",
       "3             1  \n",
       "4             1  \n",
       "...         ...  \n",
       "2495          0  \n",
       "2496          0  \n",
       "2497          1  \n",
       "2498          1  \n",
       "2499          1  \n",
       "\n",
       "[2500 rows x 9 columns]"
      ]
     },
     "execution_count": 255,
     "metadata": {},
     "output_type": "execute_result"
    }
   ],
   "source": [
    "# one hot encoding mode and power\n",
    "categorical_labels = [\"MODE\", \"POWER\"]\n",
    "\n",
    "encoded_train_df = pd.get_dummies(train_df, columns=categorical_labels, drop_first=True, dtype=int)\n",
    "encoded_test_df = pd.get_dummies(test_df, columns=categorical_labels, drop_first=True, dtype=int)\n",
    "labels_train = np.array(encoded_train_df.columns)\n",
    "labels_test = np.array(encoded_test_df.columns)\n",
    "encoded_test_df"
   ]
  },
  {
   "cell_type": "code",
   "execution_count": 256,
   "metadata": {},
   "outputs": [
    {
     "data": {
      "text/html": [
       "<div>\n",
       "<style scoped>\n",
       "    .dataframe tbody tr th:only-of-type {\n",
       "        vertical-align: middle;\n",
       "    }\n",
       "\n",
       "    .dataframe tbody tr th {\n",
       "        vertical-align: top;\n",
       "    }\n",
       "\n",
       "    .dataframe thead th {\n",
       "        text-align: right;\n",
       "    }\n",
       "</style>\n",
       "<table border=\"1\" class=\"dataframe\">\n",
       "  <thead>\n",
       "    <tr style=\"text-align: right;\">\n",
       "      <th></th>\n",
       "      <th>AMPS</th>\n",
       "      <th>VOLTS</th>\n",
       "      <th>TEMP</th>\n",
       "      <th>DELTA</th>\n",
       "      <th>GAMMA</th>\n",
       "      <th>OUTPUT</th>\n",
       "      <th>MODE_auto</th>\n",
       "      <th>MODE_beam</th>\n",
       "      <th>MODE_burst</th>\n",
       "      <th>POWER_low</th>\n",
       "    </tr>\n",
       "  </thead>\n",
       "  <tbody>\n",
       "    <tr>\n",
       "      <th>0</th>\n",
       "      <td>0.585586</td>\n",
       "      <td>0.498502</td>\n",
       "      <td>0.834060</td>\n",
       "      <td>0.171271</td>\n",
       "      <td>0.36825</td>\n",
       "      <td>3.749</td>\n",
       "      <td>0.0</td>\n",
       "      <td>0.0</td>\n",
       "      <td>0.0</td>\n",
       "      <td>0.0</td>\n",
       "    </tr>\n",
       "    <tr>\n",
       "      <th>1</th>\n",
       "      <td>0.687688</td>\n",
       "      <td>0.275576</td>\n",
       "      <td>0.414780</td>\n",
       "      <td>0.757408</td>\n",
       "      <td>0.40725</td>\n",
       "      <td>-1.062</td>\n",
       "      <td>0.0</td>\n",
       "      <td>1.0</td>\n",
       "      <td>0.0</td>\n",
       "      <td>1.0</td>\n",
       "    </tr>\n",
       "    <tr>\n",
       "      <th>2</th>\n",
       "      <td>0.888889</td>\n",
       "      <td>0.340899</td>\n",
       "      <td>0.704590</td>\n",
       "      <td>0.803616</td>\n",
       "      <td>0.85300</td>\n",
       "      <td>2.265</td>\n",
       "      <td>0.0</td>\n",
       "      <td>0.0</td>\n",
       "      <td>0.0</td>\n",
       "      <td>1.0</td>\n",
       "    </tr>\n",
       "    <tr>\n",
       "      <th>3</th>\n",
       "      <td>0.114114</td>\n",
       "      <td>0.084562</td>\n",
       "      <td>0.283460</td>\n",
       "      <td>0.120542</td>\n",
       "      <td>0.47275</td>\n",
       "      <td>1.847</td>\n",
       "      <td>1.0</td>\n",
       "      <td>0.0</td>\n",
       "      <td>0.0</td>\n",
       "      <td>1.0</td>\n",
       "    </tr>\n",
       "    <tr>\n",
       "      <th>4</th>\n",
       "      <td>0.318318</td>\n",
       "      <td>0.453341</td>\n",
       "      <td>0.688760</td>\n",
       "      <td>0.125063</td>\n",
       "      <td>0.62300</td>\n",
       "      <td>1.821</td>\n",
       "      <td>0.0</td>\n",
       "      <td>0.0</td>\n",
       "      <td>1.0</td>\n",
       "      <td>0.0</td>\n",
       "    </tr>\n",
       "    <tr>\n",
       "      <th>...</th>\n",
       "      <td>...</td>\n",
       "      <td>...</td>\n",
       "      <td>...</td>\n",
       "      <td>...</td>\n",
       "      <td>...</td>\n",
       "      <td>...</td>\n",
       "      <td>...</td>\n",
       "      <td>...</td>\n",
       "      <td>...</td>\n",
       "      <td>...</td>\n",
       "    </tr>\n",
       "    <tr>\n",
       "      <th>995</th>\n",
       "      <td>0.350350</td>\n",
       "      <td>0.488134</td>\n",
       "      <td>0.507155</td>\n",
       "      <td>1.000000</td>\n",
       "      <td>0.41625</td>\n",
       "      <td>2.466</td>\n",
       "      <td>1.0</td>\n",
       "      <td>0.0</td>\n",
       "      <td>0.0</td>\n",
       "      <td>1.0</td>\n",
       "    </tr>\n",
       "    <tr>\n",
       "      <th>996</th>\n",
       "      <td>0.644645</td>\n",
       "      <td>0.127650</td>\n",
       "      <td>0.361465</td>\n",
       "      <td>0.236565</td>\n",
       "      <td>0.50850</td>\n",
       "      <td>-1.834</td>\n",
       "      <td>0.0</td>\n",
       "      <td>1.0</td>\n",
       "      <td>0.0</td>\n",
       "      <td>1.0</td>\n",
       "    </tr>\n",
       "    <tr>\n",
       "      <th>997</th>\n",
       "      <td>0.887888</td>\n",
       "      <td>0.161060</td>\n",
       "      <td>0.142050</td>\n",
       "      <td>0.868408</td>\n",
       "      <td>0.37425</td>\n",
       "      <td>-0.188</td>\n",
       "      <td>0.0</td>\n",
       "      <td>0.0</td>\n",
       "      <td>1.0</td>\n",
       "      <td>1.0</td>\n",
       "    </tr>\n",
       "    <tr>\n",
       "      <th>998</th>\n",
       "      <td>0.323323</td>\n",
       "      <td>0.031221</td>\n",
       "      <td>0.414190</td>\n",
       "      <td>0.441989</td>\n",
       "      <td>0.63100</td>\n",
       "      <td>0.081</td>\n",
       "      <td>0.0</td>\n",
       "      <td>0.0</td>\n",
       "      <td>0.0</td>\n",
       "      <td>1.0</td>\n",
       "    </tr>\n",
       "    <tr>\n",
       "      <th>999</th>\n",
       "      <td>0.344344</td>\n",
       "      <td>0.290092</td>\n",
       "      <td>0.335070</td>\n",
       "      <td>0.539930</td>\n",
       "      <td>0.71000</td>\n",
       "      <td>-0.379</td>\n",
       "      <td>0.0</td>\n",
       "      <td>1.0</td>\n",
       "      <td>0.0</td>\n",
       "      <td>0.0</td>\n",
       "    </tr>\n",
       "  </tbody>\n",
       "</table>\n",
       "<p>971 rows × 10 columns</p>\n",
       "</div>"
      ],
      "text/plain": [
       "         AMPS     VOLTS      TEMP     DELTA    GAMMA  OUTPUT  MODE_auto  \\\n",
       "0    0.585586  0.498502  0.834060  0.171271  0.36825   3.749        0.0   \n",
       "1    0.687688  0.275576  0.414780  0.757408  0.40725  -1.062        0.0   \n",
       "2    0.888889  0.340899  0.704590  0.803616  0.85300   2.265        0.0   \n",
       "3    0.114114  0.084562  0.283460  0.120542  0.47275   1.847        1.0   \n",
       "4    0.318318  0.453341  0.688760  0.125063  0.62300   1.821        0.0   \n",
       "..        ...       ...       ...       ...      ...     ...        ...   \n",
       "995  0.350350  0.488134  0.507155  1.000000  0.41625   2.466        1.0   \n",
       "996  0.644645  0.127650  0.361465  0.236565  0.50850  -1.834        0.0   \n",
       "997  0.887888  0.161060  0.142050  0.868408  0.37425  -0.188        0.0   \n",
       "998  0.323323  0.031221  0.414190  0.441989  0.63100   0.081        0.0   \n",
       "999  0.344344  0.290092  0.335070  0.539930  0.71000  -0.379        0.0   \n",
       "\n",
       "     MODE_beam  MODE_burst  POWER_low  \n",
       "0          0.0         0.0        0.0  \n",
       "1          1.0         0.0        1.0  \n",
       "2          0.0         0.0        1.0  \n",
       "3          0.0         0.0        1.0  \n",
       "4          0.0         1.0        0.0  \n",
       "..         ...         ...        ...  \n",
       "995        0.0         0.0        1.0  \n",
       "996        1.0         0.0        1.0  \n",
       "997        0.0         1.0        1.0  \n",
       "998        0.0         0.0        1.0  \n",
       "999        1.0         0.0        0.0  \n",
       "\n",
       "[971 rows x 10 columns]"
      ]
     },
     "execution_count": 256,
     "metadata": {},
     "output_type": "execute_result"
    }
   ],
   "source": [
    "# normalize the data\n",
    "scaler = MinMaxScaler()\n",
    "for column in encoded_train_df.columns:\n",
    "    if column == \"OUTPUT\": \n",
    "        continue\n",
    "    encoded_train_df[column] = scaler.fit_transform(encoded_train_df[column].values.reshape(-1, 1))\n",
    "encoded_train_df"
   ]
  },
  {
   "cell_type": "code",
   "execution_count": 257,
   "metadata": {},
   "outputs": [
    {
     "data": {
      "text/html": [
       "<div>\n",
       "<style scoped>\n",
       "    .dataframe tbody tr th:only-of-type {\n",
       "        vertical-align: middle;\n",
       "    }\n",
       "\n",
       "    .dataframe tbody tr th {\n",
       "        vertical-align: top;\n",
       "    }\n",
       "\n",
       "    .dataframe thead th {\n",
       "        text-align: right;\n",
       "    }\n",
       "</style>\n",
       "<table border=\"1\" class=\"dataframe\">\n",
       "  <thead>\n",
       "    <tr style=\"text-align: right;\">\n",
       "      <th></th>\n",
       "      <th>AMPS</th>\n",
       "      <th>VOLTS</th>\n",
       "      <th>TEMP</th>\n",
       "      <th>DELTA</th>\n",
       "      <th>GAMMA</th>\n",
       "      <th>MODE_auto</th>\n",
       "      <th>MODE_beam</th>\n",
       "      <th>MODE_burst</th>\n",
       "      <th>POWER_low</th>\n",
       "    </tr>\n",
       "  </thead>\n",
       "  <tbody>\n",
       "    <tr>\n",
       "      <th>0</th>\n",
       "      <td>0.126126</td>\n",
       "      <td>0.860484</td>\n",
       "      <td>0.571420</td>\n",
       "      <td>0.090545</td>\n",
       "      <td>0.67300</td>\n",
       "      <td>0.0</td>\n",
       "      <td>0.0</td>\n",
       "      <td>0.0</td>\n",
       "      <td>0.0</td>\n",
       "    </tr>\n",
       "    <tr>\n",
       "      <th>1</th>\n",
       "      <td>0.917918</td>\n",
       "      <td>0.522696</td>\n",
       "      <td>0.588730</td>\n",
       "      <td>0.625313</td>\n",
       "      <td>0.32275</td>\n",
       "      <td>0.0</td>\n",
       "      <td>0.0</td>\n",
       "      <td>0.0</td>\n",
       "      <td>0.0</td>\n",
       "    </tr>\n",
       "    <tr>\n",
       "      <th>2</th>\n",
       "      <td>0.508509</td>\n",
       "      <td>0.335023</td>\n",
       "      <td>0.450670</td>\n",
       "      <td>0.363182</td>\n",
       "      <td>0.76400</td>\n",
       "      <td>0.0</td>\n",
       "      <td>0.0</td>\n",
       "      <td>0.0</td>\n",
       "      <td>0.0</td>\n",
       "    </tr>\n",
       "    <tr>\n",
       "      <th>3</th>\n",
       "      <td>0.832833</td>\n",
       "      <td>0.281567</td>\n",
       "      <td>0.339765</td>\n",
       "      <td>0.572286</td>\n",
       "      <td>0.35700</td>\n",
       "      <td>1.0</td>\n",
       "      <td>0.0</td>\n",
       "      <td>0.0</td>\n",
       "      <td>1.0</td>\n",
       "    </tr>\n",
       "    <tr>\n",
       "      <th>4</th>\n",
       "      <td>0.501502</td>\n",
       "      <td>0.310023</td>\n",
       "      <td>0.506745</td>\n",
       "      <td>0.715358</td>\n",
       "      <td>0.26525</td>\n",
       "      <td>1.0</td>\n",
       "      <td>0.0</td>\n",
       "      <td>0.0</td>\n",
       "      <td>1.0</td>\n",
       "    </tr>\n",
       "    <tr>\n",
       "      <th>...</th>\n",
       "      <td>...</td>\n",
       "      <td>...</td>\n",
       "      <td>...</td>\n",
       "      <td>...</td>\n",
       "      <td>...</td>\n",
       "      <td>...</td>\n",
       "      <td>...</td>\n",
       "      <td>...</td>\n",
       "      <td>...</td>\n",
       "    </tr>\n",
       "    <tr>\n",
       "      <th>2495</th>\n",
       "      <td>0.639640</td>\n",
       "      <td>0.264747</td>\n",
       "      <td>0.393825</td>\n",
       "      <td>0.106553</td>\n",
       "      <td>0.59975</td>\n",
       "      <td>0.0</td>\n",
       "      <td>0.0</td>\n",
       "      <td>0.0</td>\n",
       "      <td>0.0</td>\n",
       "    </tr>\n",
       "    <tr>\n",
       "      <th>2496</th>\n",
       "      <td>0.630631</td>\n",
       "      <td>0.178456</td>\n",
       "      <td>0.435265</td>\n",
       "      <td>0.883942</td>\n",
       "      <td>0.49975</td>\n",
       "      <td>0.0</td>\n",
       "      <td>0.0</td>\n",
       "      <td>0.0</td>\n",
       "      <td>0.0</td>\n",
       "    </tr>\n",
       "    <tr>\n",
       "      <th>2497</th>\n",
       "      <td>0.813814</td>\n",
       "      <td>0.211290</td>\n",
       "      <td>0.352490</td>\n",
       "      <td>0.295648</td>\n",
       "      <td>0.65950</td>\n",
       "      <td>1.0</td>\n",
       "      <td>0.0</td>\n",
       "      <td>0.0</td>\n",
       "      <td>1.0</td>\n",
       "    </tr>\n",
       "    <tr>\n",
       "      <th>2498</th>\n",
       "      <td>0.172172</td>\n",
       "      <td>0.419700</td>\n",
       "      <td>0.499295</td>\n",
       "      <td>0.797399</td>\n",
       "      <td>0.74875</td>\n",
       "      <td>1.0</td>\n",
       "      <td>0.0</td>\n",
       "      <td>0.0</td>\n",
       "      <td>1.0</td>\n",
       "    </tr>\n",
       "    <tr>\n",
       "      <th>2499</th>\n",
       "      <td>0.644645</td>\n",
       "      <td>0.285253</td>\n",
       "      <td>0.727330</td>\n",
       "      <td>0.453727</td>\n",
       "      <td>0.46750</td>\n",
       "      <td>0.0</td>\n",
       "      <td>1.0</td>\n",
       "      <td>0.0</td>\n",
       "      <td>1.0</td>\n",
       "    </tr>\n",
       "  </tbody>\n",
       "</table>\n",
       "<p>2500 rows × 9 columns</p>\n",
       "</div>"
      ],
      "text/plain": [
       "          AMPS     VOLTS      TEMP     DELTA    GAMMA  MODE_auto  MODE_beam  \\\n",
       "0     0.126126  0.860484  0.571420  0.090545  0.67300        0.0        0.0   \n",
       "1     0.917918  0.522696  0.588730  0.625313  0.32275        0.0        0.0   \n",
       "2     0.508509  0.335023  0.450670  0.363182  0.76400        0.0        0.0   \n",
       "3     0.832833  0.281567  0.339765  0.572286  0.35700        1.0        0.0   \n",
       "4     0.501502  0.310023  0.506745  0.715358  0.26525        1.0        0.0   \n",
       "...        ...       ...       ...       ...      ...        ...        ...   \n",
       "2495  0.639640  0.264747  0.393825  0.106553  0.59975        0.0        0.0   \n",
       "2496  0.630631  0.178456  0.435265  0.883942  0.49975        0.0        0.0   \n",
       "2497  0.813814  0.211290  0.352490  0.295648  0.65950        1.0        0.0   \n",
       "2498  0.172172  0.419700  0.499295  0.797399  0.74875        1.0        0.0   \n",
       "2499  0.644645  0.285253  0.727330  0.453727  0.46750        0.0        1.0   \n",
       "\n",
       "      MODE_burst  POWER_low  \n",
       "0            0.0        0.0  \n",
       "1            0.0        0.0  \n",
       "2            0.0        0.0  \n",
       "3            0.0        1.0  \n",
       "4            0.0        1.0  \n",
       "...          ...        ...  \n",
       "2495         0.0        0.0  \n",
       "2496         0.0        0.0  \n",
       "2497         0.0        1.0  \n",
       "2498         0.0        1.0  \n",
       "2499         0.0        1.0  \n",
       "\n",
       "[2500 rows x 9 columns]"
      ]
     },
     "execution_count": 257,
     "metadata": {},
     "output_type": "execute_result"
    }
   ],
   "source": [
    "for column in encoded_test_df.columns:\n",
    "    encoded_test_df[column] = scaler.fit_transform(encoded_test_df[column].values.reshape(-1, 1))\n",
    "encoded_test_df"
   ]
  },
  {
   "cell_type": "code",
   "execution_count": 258,
   "metadata": {},
   "outputs": [
    {
     "data": {
      "text/plain": [
       "(971, 9)"
      ]
     },
     "execution_count": 258,
     "metadata": {},
     "output_type": "execute_result"
    }
   ],
   "source": [
    "X_train = np.array(encoded_train_df[labels_test])\n",
    "y_train = np.array(encoded_train_df[\"OUTPUT\"])\n",
    "X_train.shape"
   ]
  },
  {
   "cell_type": "code",
   "execution_count": 259,
   "metadata": {},
   "outputs": [
    {
     "data": {
      "text/plain": [
       "(2500, 9)"
      ]
     },
     "execution_count": 259,
     "metadata": {},
     "output_type": "execute_result"
    }
   ],
   "source": [
    "X_test = np.array(encoded_test_df[labels_test])\n",
    "X_test.shape"
   ]
  },
  {
   "cell_type": "code",
   "execution_count": 237,
   "metadata": {},
   "outputs": [],
   "source": [
    "class Network(nn.Module): \n",
    "    def __init__(self, input_shape, output_shape, dropout, device): \n",
    "        super().__init__()\n",
    "        self.linear_input = nn.Linear(input_shape, 16)\n",
    "        self.linear_output = nn.Linear(16, output_shape)\n",
    "\n",
    "        self.to(device)\n",
    "\n",
    "    def forward(self, x): \n",
    "        x = F.relu(self.linear_input(x))\n",
    "        x = self.linear_output(x)\n",
    "        return x"
   ]
  },
  {
   "cell_type": "code",
   "execution_count": 238,
   "metadata": {},
   "outputs": [
    {
     "name": "stderr",
     "output_type": "stream",
     "text": [
      "  0%|          | 0/100 [00:00<?, ?it/s]c:\\Users\\s8gre\\anaconda3\\envs\\ai\\lib\\site-packages\\torch\\nn\\modules\\loss.py:536: UserWarning: Using a target size (torch.Size([971])) that is different to the input size (torch.Size([971, 1])). This will likely lead to incorrect results due to broadcasting. Please ensure they have the same size.\n",
      "  return F.mse_loss(input, target, reduction=self.reduction)\n",
      "                                                 "
     ]
    },
    {
     "name": "stdout",
     "output_type": "stream",
     "text": [
      "Loss: 6.317727088928223\n",
      "Loss: 6.317558765411377\n",
      "Loss: 6.3173980712890625\n",
      "Loss: 6.317239761352539\n",
      "Loss: 6.317082405090332\n",
      "Loss: 6.316926002502441\n",
      "Loss: 6.316769123077393\n",
      "Loss: 6.316612243652344\n",
      "Loss: 6.316454887390137\n",
      "Loss: 6.31629753112793\n",
      "Loss: 6.3161396980285645\n",
      "Loss: 6.315981864929199\n",
      "Loss: 6.315824031829834\n",
      "Loss: 6.3156657218933105\n",
      "Loss: 6.315507888793945\n",
      "Loss: 6.315349578857422\n",
      "Loss: 6.315191745758057\n",
      "Loss: 6.31503438949585\n",
      "Loss: 6.314877033233643\n",
      "Loss: 6.314719200134277\n",
      "Loss: 6.3145623207092285\n",
      "Loss: 6.314405918121338\n",
      "Loss: 6.314249515533447\n",
      "Loss: 6.314094066619873\n",
      "Loss: 6.313939094543457\n"
     ]
    },
    {
     "name": "stderr",
     "output_type": "stream",
     "text": [
      "                                                 "
     ]
    },
    {
     "name": "stdout",
     "output_type": "stream",
     "text": [
      "Loss: 6.313785552978516\n",
      "Loss: 6.313631534576416\n",
      "Loss: 6.313478946685791\n",
      "Loss: 6.313327312469482\n",
      "Loss: 6.31317663192749\n",
      "Loss: 6.313028335571289\n",
      "Loss: 6.31287956237793\n",
      "Loss: 6.312732696533203\n",
      "Loss: 6.312586784362793\n",
      "Loss: 6.312442779541016\n",
      "Loss: 6.312299728393555\n",
      "Loss: 6.312158107757568\n",
      "Loss: 6.312017917633057\n",
      "Loss: 6.311879634857178\n",
      "Loss: 6.311742782592773\n",
      "Loss: 6.3116068840026855\n",
      "Loss: 6.311473369598389\n",
      "Loss: 6.311341762542725\n",
      "Loss: 6.311211109161377\n",
      "Loss: 6.311082363128662\n",
      "Loss: 6.31095552444458\n",
      "Loss: 6.310830593109131\n",
      "Loss: 6.3107075691223145\n",
      "Loss: 6.310586452484131\n",
      "Loss: 6.31046724319458\n"
     ]
    },
    {
     "name": "stderr",
     "output_type": "stream",
     "text": [
      " 72%|███████▏  | 72/100 [00:00<00:00, 128.57it/s]"
     ]
    },
    {
     "name": "stdout",
     "output_type": "stream",
     "text": [
      "Loss: 6.310349941253662\n",
      "Loss: 6.310235023498535\n",
      "Loss: 6.310122013092041\n",
      "Loss: 6.31001091003418\n",
      "Loss: 6.309902667999268\n",
      "Loss: 6.309795379638672\n",
      "Loss: 6.309691429138184\n",
      "Loss: 6.30958890914917\n",
      "Loss: 6.3094892501831055\n",
      "Loss: 6.309391498565674\n",
      "Loss: 6.309295654296875\n",
      "Loss: 6.309202671051025\n",
      "Loss: 6.30911111831665\n",
      "Loss: 6.309022903442383\n",
      "Loss: 6.30893611907959\n",
      "Loss: 6.30885124206543\n",
      "Loss: 6.308769702911377\n",
      "Loss: 6.308689594268799\n",
      "Loss: 6.308611869812012\n",
      "Loss: 6.308536529541016\n",
      "Loss: 6.308463096618652\n",
      "Loss: 6.30839204788208\n",
      "Loss: 6.308323383331299\n",
      "Loss: 6.308255672454834\n"
     ]
    },
    {
     "name": "stderr",
     "output_type": "stream",
     "text": [
      " 87%|████████▋ | 87/100 [00:00<00:00, 134.98it/s]"
     ]
    },
    {
     "name": "stdout",
     "output_type": "stream",
     "text": [
      "Loss: 6.308190822601318\n",
      "Loss: 6.3081278800964355\n",
      "Loss: 6.308067798614502\n",
      "Loss: 6.308009147644043\n",
      "Loss: 6.307952880859375\n",
      "Loss: 6.307898998260498\n",
      "Loss: 6.307846546173096\n",
      "Loss: 6.307796001434326\n",
      "Loss: 6.307747840881348\n",
      "Loss: 6.307701587677002\n",
      "Loss: 6.307657241821289\n",
      "Loss: 6.307614326477051\n",
      "Loss: 6.307573318481445\n",
      "Loss: 6.307534694671631\n",
      "Loss: 6.307497024536133\n",
      "Loss: 6.307460784912109\n",
      "Loss: 6.307426929473877\n",
      "Loss: 6.307394981384277\n",
      "Loss: 6.307364463806152\n",
      "Loss: 6.30733585357666\n",
      "Loss: 6.307308197021484\n",
      "Loss: 6.3072829246521\n",
      "Loss: 6.307258605957031\n",
      "Loss: 6.307235240936279\n",
      "Loss: 6.307212829589844\n"
     ]
    },
    {
     "name": "stderr",
     "output_type": "stream",
     "text": [
      "100%|██████████| 100/100 [00:00<00:00, 131.96it/s]"
     ]
    },
    {
     "name": "stdout",
     "output_type": "stream",
     "text": [
      "Loss: 6.307192802429199\n"
     ]
    },
    {
     "name": "stderr",
     "output_type": "stream",
     "text": [
      "\n"
     ]
    }
   ],
   "source": [
    "# solution with neural network not good!\n",
    "learning_rate = 0.0001\n",
    "dropout_rate = 0.2\n",
    "input_shape = X_train.shape[1]\n",
    "output_shape = 1\n",
    "device = torch.device(\"cuda\" if torch.cuda.is_available() else \"cpu\")\n",
    "epochs = 100\n",
    "\n",
    "model = Network(input_shape, output_shape, dropout_rate, device)\n",
    "\n",
    "input_tensor = torch.tensor(X_train, dtype=torch.float32)\n",
    "labels_tensor = torch.tensor(y_train, dtype=torch.float32)\n",
    "\n",
    "loss_fn = nn.MSELoss()\n",
    "optimizer = torch.optim.Adam(model.parameters(), lr=learning_rate)\n",
    "\n",
    "\n",
    "for epoch in tqdm(range(epochs)):\n",
    "    input_tensor, labels_tensor = input_tensor.to(device), labels_tensor.to(device) \n",
    "    outputs = model(input_tensor)\n",
    "    loss = loss_fn(outputs, labels_tensor)\n",
    "\n",
    "    loss.backward()\n",
    "    optimizer.step()\n",
    "    tqdm.write(f\"Loss: {loss.item()}\")\n",
    "\n",
    "# torch.save(model.state_dict(), \"model.pt\")"
   ]
  },
  {
   "cell_type": "code",
   "execution_count": 327,
   "metadata": {},
   "outputs": [
    {
     "name": "stdout",
     "output_type": "stream",
     "text": [
      "Mean Squared Error: 0.1946\n",
      "R-squared: 0.9628\n"
     ]
    }
   ],
   "source": [
    "from sklearn.model_selection import train_test_split\n",
    "from sklearn.linear_model import LinearRegression\n",
    "from sklearn.svm import SVR\n",
    "from sklearn.ensemble import ExtraTreesRegressor\n",
    "from sklearn.metrics import mean_squared_error, r2_score\n",
    "\n",
    "X_train_r, X_test_r, y_train_r, y_test_r = train_test_split(X_train, y_train, test_size=0.2, random_state=42)\n",
    "\n",
    "model = ExtraTreesRegressor(n_estimators=140, random_state=42)\n",
    "model.fit(X_train_r, y_train_r)\n",
    "\n",
    "y_pred_r = model.predict(X_test_r)\n",
    "\n",
    "mse = mean_squared_error(y_test_r, y_pred_r)\n",
    "r2 = r2_score(y_test_r, y_pred_r)\n",
    "\n",
    "print(f'Mean Squared Error: {mse:.4f}')\n",
    "print(f'R-squared: {r2:.4f}')"
   ]
  },
  {
   "cell_type": "code",
   "execution_count": 328,
   "metadata": {},
   "outputs": [
    {
     "data": {
      "text/plain": [
       "array([2.42287143, 2.50257143, 2.27662857, ..., 2.17108571, 2.16427857,\n",
       "       2.67458571])"
      ]
     },
     "execution_count": 328,
     "metadata": {},
     "output_type": "execute_result"
    }
   ],
   "source": [
    "model.fit(X_train, y_train)\n",
    "y_pred = model.predict(X_test)\n",
    "y_pred"
   ]
  },
  {
   "cell_type": "code",
   "execution_count": 329,
   "metadata": {},
   "outputs": [],
   "source": [
    "output_file_path = \"predictions.txt\"\n",
    "with open(output_file_path, \"w\") as file:\n",
    "    for prediction in y_pred:\n",
    "        file.write(f\"{prediction}\\n\")"
   ]
  },
  {
   "cell_type": "markdown",
   "metadata": {},
   "source": [
    "## Level 7"
   ]
  },
  {
   "cell_type": "code",
   "execution_count": 265,
   "metadata": {},
   "outputs": [
    {
     "data": {
      "text/plain": [
       "0.208669385651733"
      ]
     },
     "execution_count": 265,
     "metadata": {},
     "output_type": "execute_result"
    }
   ],
   "source": [
    "y_pred.mean()"
   ]
  },
  {
   "cell_type": "code",
   "execution_count": 288,
   "metadata": {},
   "outputs": [
    {
     "data": {
      "text/plain": [
       "2.3551702517665896"
      ]
     },
     "execution_count": 288,
     "metadata": {},
     "output_type": "execute_result"
    }
   ],
   "source": [
    "predictions_matrix = np.array(y_pred).reshape(50, 50)\n",
    "predictions_matrix"
   ]
  },
  {
   "cell_type": "code",
   "execution_count": 289,
   "metadata": {},
   "outputs": [
    {
     "data": {
      "image/png": "[encoded data removed]",
      "text/plain": [
       "<Figure size 640x480 with 2 Axes>"
      ]
     },
     "metadata": {},
     "output_type": "display_data"
    }
   ],
   "source": [
    "plt.imshow(predictions_matrix, cmap='viridis', interpolation='nearest')\n",
    "plt.colorbar()  # Add colorbar to show the scale\n",
    "plt.title('Heatmap of a 2D Array')\n",
    "plt.show()"
   ]
  },
  {
   "cell_type": "markdown",
   "metadata": {},
   "source": [
    "## Level 8"
   ]
  }
 ],
 "metadata": {
  "kernelspec": {
   "display_name": "ai",
   "language": "python",
   "name": "python3"
  },
  "language_info": {
   "codemirror_mode": {
    "name": "ipython",
    "version": 3
   },
   "file_extension": ".py",
   "mimetype": "text/x-python",
   "name": "python",
   "nbconvert_exporter": "python",
   "pygments_lexer": "ipython3",
   "version": "3.8.0"
  }
 },
 "nbformat": 4,
 "nbformat_minor": 2
}
